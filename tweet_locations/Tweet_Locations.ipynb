{
 "cells": [
  {
   "cell_type": "markdown",
   "metadata": {},
   "source": [
    "# Getting Tweet Locations"
   ]
  },
  {
   "cell_type": "code",
   "execution_count": 1,
   "metadata": {},
   "outputs": [],
   "source": [
    "import pandas as pd\n",
    "import numpy as np\n",
    "import requests"
   ]
  },
  {
   "cell_type": "code",
   "execution_count": 2,
   "metadata": {},
   "outputs": [
    {
     "data": {
      "text/html": [
       "<div>\n",
       "<style scoped>\n",
       "    .dataframe tbody tr th:only-of-type {\n",
       "        vertical-align: middle;\n",
       "    }\n",
       "\n",
       "    .dataframe tbody tr th {\n",
       "        vertical-align: top;\n",
       "    }\n",
       "\n",
       "    .dataframe thead th {\n",
       "        text-align: right;\n",
       "    }\n",
       "</style>\n",
       "<table border=\"1\" class=\"dataframe\">\n",
       "  <thead>\n",
       "    <tr style=\"text-align: right;\">\n",
       "      <th></th>\n",
       "      <th>Tweet</th>\n",
       "      <th>closed_probs</th>\n",
       "      <th>closed_open</th>\n",
       "    </tr>\n",
       "  </thead>\n",
       "  <tbody>\n",
       "    <tr>\n",
       "      <td>0</td>\n",
       "      <td>Evacuation Orders - https://socoemergency.org/...</td>\n",
       "      <td>0.665353</td>\n",
       "      <td>1</td>\n",
       "    </tr>\n",
       "    <tr>\n",
       "      <td>1</td>\n",
       "      <td>#KincadeFire off John Kincade Road and Burned ...</td>\n",
       "      <td>0.997102</td>\n",
       "      <td>1</td>\n",
       "    </tr>\n",
       "    <tr>\n",
       "      <td>2</td>\n",
       "      <td>NEW INCIDENT 4:06 pm Occidental Rd at Frati Ln...</td>\n",
       "      <td>0.998465</td>\n",
       "      <td>1</td>\n",
       "    </tr>\n",
       "    <tr>\n",
       "      <td>3</td>\n",
       "      <td>(Update 50, 10:21 pm) #KincadeFire Air attack ...</td>\n",
       "      <td>0.993657</td>\n",
       "      <td>1</td>\n",
       "    </tr>\n",
       "    <tr>\n",
       "      <td>4</td>\n",
       "      <td>Thanks to our electrical crew for getting High...</td>\n",
       "      <td>0.932110</td>\n",
       "      <td>1</td>\n",
       "    </tr>\n",
       "  </tbody>\n",
       "</table>\n",
       "</div>"
      ],
      "text/plain": [
       "                                               Tweet  closed_probs  \\\n",
       "0  Evacuation Orders - https://socoemergency.org/...      0.665353   \n",
       "1  #KincadeFire off John Kincade Road and Burned ...      0.997102   \n",
       "2  NEW INCIDENT 4:06 pm Occidental Rd at Frati Ln...      0.998465   \n",
       "3  (Update 50, 10:21 pm) #KincadeFire Air attack ...      0.993657   \n",
       "4  Thanks to our electrical crew for getting High...      0.932110   \n",
       "\n",
       "   closed_open  \n",
       "0            1  \n",
       "1            1  \n",
       "2            1  \n",
       "3            1  \n",
       "4            1  "
      ]
     },
     "execution_count": 2,
     "metadata": {},
     "output_type": "execute_result"
    }
   ],
   "source": [
    "# loading in the Xtest file\n",
    "kincade_fire = pd.read_csv('../datasets/kincade_fire_closed_only.csv')\n",
    "kincade_fire.head()"
   ]
  },
  {
   "cell_type": "code",
   "execution_count": 4,
   "metadata": {},
   "outputs": [
    {
     "data": {
      "text/plain": [
       "'/Users/wilson_stewart/Documents/Data_Science/DSI/Submissions/Projects/evacuation_routes/tweet_locations'"
      ]
     },
     "execution_count": 4,
     "metadata": {},
     "output_type": "execute_result"
    }
   ],
   "source": [
    "pwd"
   ]
  },
  {
   "cell_type": "code",
   "execution_count": 5,
   "metadata": {},
   "outputs": [],
   "source": [
    "# reading in the googlemaps_api key from an external file\n",
    "with open (\"../../../../googlemaps_api_key.txt\", \"r\") as myfile:\n",
    "    api_key = myfile.read().replace('\\n', '')"
   ]
  },
  {
   "cell_type": "code",
   "execution_count": 6,
   "metadata": {},
   "outputs": [],
   "source": [
    "# using googlemaps_places api to find the location the tweet is talking about\n",
    "\n",
    "def places_search(place):\n",
    "    places = [] \n",
    "    for i in range(len(place.split())):\n",
    "        if i < (len(place.split())-1):\n",
    "            places.append(place.split()[i]+'%20')\n",
    "        else:\n",
    "            places.append(place.split()[i])\n",
    "    place_new = ''.join(places)\n",
    "    url = f'https://maps.googleapis.com/maps/api/place/findplacefromtext/json?input={place_new}&inputtype=textquery&fields=geometry&key='+api_key\n",
    "    response = requests.get(url)\n",
    "    resp_json_payload = response.json()\n",
    "    lat = str(resp_json_payload['candidates'][0]['geometry']['location']['lat'])\n",
    "    lng = str(resp_json_payload['candidates'][0]['geometry']['location']['lng'])\n",
    "    return lat+','+lng"
   ]
  },
  {
   "cell_type": "code",
   "execution_count": 7,
   "metadata": {},
   "outputs": [],
   "source": [
    "# adding the coordinated (if they can be found) for each tweet in the dataframe\n",
    "\n",
    "def tweet_coords(df):\n",
    "    location = []\n",
    "    for tweet in df['Tweet']:\n",
    "        try:\n",
    "            coords = places_search(tweet)\n",
    "            location.append([coords])\n",
    "        except:\n",
    "            location.append(np.nan)\n",
    "    df['location'] = location\n",
    "    return df"
   ]
  },
  {
   "cell_type": "code",
   "execution_count": 8,
   "metadata": {},
   "outputs": [
    {
     "data": {
      "text/html": [
       "<div>\n",
       "<style scoped>\n",
       "    .dataframe tbody tr th:only-of-type {\n",
       "        vertical-align: middle;\n",
       "    }\n",
       "\n",
       "    .dataframe tbody tr th {\n",
       "        vertical-align: top;\n",
       "    }\n",
       "\n",
       "    .dataframe thead th {\n",
       "        text-align: right;\n",
       "    }\n",
       "</style>\n",
       "<table border=\"1\" class=\"dataframe\">\n",
       "  <thead>\n",
       "    <tr style=\"text-align: right;\">\n",
       "      <th></th>\n",
       "      <th>Tweet</th>\n",
       "      <th>closed_probs</th>\n",
       "      <th>closed_open</th>\n",
       "      <th>location</th>\n",
       "    </tr>\n",
       "  </thead>\n",
       "  <tbody>\n",
       "    <tr>\n",
       "      <td>0</td>\n",
       "      <td>Evacuation Orders - https://socoemergency.org/...</td>\n",
       "      <td>0.665353</td>\n",
       "      <td>1</td>\n",
       "      <td>NaN</td>\n",
       "    </tr>\n",
       "    <tr>\n",
       "      <td>1</td>\n",
       "      <td>#KincadeFire off John Kincade Road and Burned ...</td>\n",
       "      <td>0.997102</td>\n",
       "      <td>1</td>\n",
       "      <td>NaN</td>\n",
       "    </tr>\n",
       "    <tr>\n",
       "      <td>2</td>\n",
       "      <td>NEW INCIDENT 4:06 pm Occidental Rd at Frati Ln...</td>\n",
       "      <td>0.998465</td>\n",
       "      <td>1</td>\n",
       "      <td>NaN</td>\n",
       "    </tr>\n",
       "    <tr>\n",
       "      <td>3</td>\n",
       "      <td>(Update 50, 10:21 pm) #KincadeFire Air attack ...</td>\n",
       "      <td>0.993657</td>\n",
       "      <td>1</td>\n",
       "      <td>NaN</td>\n",
       "    </tr>\n",
       "    <tr>\n",
       "      <td>4</td>\n",
       "      <td>Thanks to our electrical crew for getting High...</td>\n",
       "      <td>0.932110</td>\n",
       "      <td>1</td>\n",
       "      <td>[38.7301905,-120.7982803]</td>\n",
       "    </tr>\n",
       "    <tr>\n",
       "      <td>...</td>\n",
       "      <td>...</td>\n",
       "      <td>...</td>\n",
       "      <td>...</td>\n",
       "      <td>...</td>\n",
       "    </tr>\n",
       "    <tr>\n",
       "      <td>68</td>\n",
       "      <td>We've been through a lot this week. Gun violen...</td>\n",
       "      <td>0.691212</td>\n",
       "      <td>1</td>\n",
       "      <td>NaN</td>\n",
       "    </tr>\n",
       "    <tr>\n",
       "      <td>69</td>\n",
       "      <td>(Update 1, 12:22 am) #NapaRoadIC is declaring ...</td>\n",
       "      <td>0.877711</td>\n",
       "      <td>1</td>\n",
       "      <td>NaN</td>\n",
       "    </tr>\n",
       "    <tr>\n",
       "      <td>70</td>\n",
       "      <td>(Update 56, 4:31 am) #KincadeFire If you haven...</td>\n",
       "      <td>0.980733</td>\n",
       "      <td>1</td>\n",
       "      <td>NaN</td>\n",
       "    </tr>\n",
       "    <tr>\n",
       "      <td>71</td>\n",
       "      <td>Anticipated power outages are expected startin...</td>\n",
       "      <td>0.737542</td>\n",
       "      <td>1</td>\n",
       "      <td>NaN</td>\n",
       "    </tr>\n",
       "    <tr>\n",
       "      <td>72</td>\n",
       "      <td>Additionally, Evacuation Warning issued for al...</td>\n",
       "      <td>0.504973</td>\n",
       "      <td>1</td>\n",
       "      <td>NaN</td>\n",
       "    </tr>\n",
       "  </tbody>\n",
       "</table>\n",
       "<p>73 rows × 4 columns</p>\n",
       "</div>"
      ],
      "text/plain": [
       "                                                Tweet  closed_probs  \\\n",
       "0   Evacuation Orders - https://socoemergency.org/...      0.665353   \n",
       "1   #KincadeFire off John Kincade Road and Burned ...      0.997102   \n",
       "2   NEW INCIDENT 4:06 pm Occidental Rd at Frati Ln...      0.998465   \n",
       "3   (Update 50, 10:21 pm) #KincadeFire Air attack ...      0.993657   \n",
       "4   Thanks to our electrical crew for getting High...      0.932110   \n",
       "..                                                ...           ...   \n",
       "68  We've been through a lot this week. Gun violen...      0.691212   \n",
       "69  (Update 1, 12:22 am) #NapaRoadIC is declaring ...      0.877711   \n",
       "70  (Update 56, 4:31 am) #KincadeFire If you haven...      0.980733   \n",
       "71  Anticipated power outages are expected startin...      0.737542   \n",
       "72  Additionally, Evacuation Warning issued for al...      0.504973   \n",
       "\n",
       "    closed_open                   location  \n",
       "0             1                        NaN  \n",
       "1             1                        NaN  \n",
       "2             1                        NaN  \n",
       "3             1                        NaN  \n",
       "4             1  [38.7301905,-120.7982803]  \n",
       "..          ...                        ...  \n",
       "68            1                        NaN  \n",
       "69            1                        NaN  \n",
       "70            1                        NaN  \n",
       "71            1                        NaN  \n",
       "72            1                        NaN  \n",
       "\n",
       "[73 rows x 4 columns]"
      ]
     },
     "execution_count": 8,
     "metadata": {},
     "output_type": "execute_result"
    }
   ],
   "source": [
    "# running above functions\n",
    "tweet_coords(kincade_fire)"
   ]
  },
  {
   "cell_type": "code",
   "execution_count": 9,
   "metadata": {},
   "outputs": [
    {
     "data": {
      "text/plain": [
       "Tweet            0\n",
       "closed_probs     0\n",
       "closed_open      0\n",
       "location        69\n",
       "dtype: int64"
      ]
     },
     "execution_count": 9,
     "metadata": {},
     "output_type": "execute_result"
    }
   ],
   "source": [
    "# making sure all values for location are not null\n",
    "kincade_fire.isnull().sum()"
   ]
  },
  {
   "cell_type": "code",
   "execution_count": 10,
   "metadata": {},
   "outputs": [],
   "source": [
    "# writing this new dataframe to a csv\n",
    "kincade_fire.to_csv('../datasets/kincade_fire_closed_coords.csv', index=False)"
   ]
  },
  {
   "cell_type": "code",
   "execution_count": null,
   "metadata": {},
   "outputs": [],
   "source": []
  }
 ],
 "metadata": {
  "kernelspec": {
   "display_name": "Python 3",
   "language": "python",
   "name": "python3"
  },
  "language_info": {
   "codemirror_mode": {
    "name": "ipython",
    "version": 3
   },
   "file_extension": ".py",
   "mimetype": "text/x-python",
   "name": "python",
   "nbconvert_exporter": "python",
   "pygments_lexer": "ipython3",
   "version": "3.7.4"
  }
 },
 "nbformat": 4,
 "nbformat_minor": 4
}

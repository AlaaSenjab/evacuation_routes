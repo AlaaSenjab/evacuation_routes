{
 "cells": [
  {
   "cell_type": "markdown",
   "metadata": {},
   "source": [
    "# Twitter Traffic Data"
   ]
  },
  {
   "cell_type": "code",
   "execution_count": 19,
   "metadata": {},
   "outputs": [],
   "source": [
    "import pandas as pd\n",
    "import tweepy\n",
    "import json\n",
    "import datetime\n",
    "import re\n",
    "import GetOldTweets3 as got\n",
    "import os\n",
    "import glob\n",
    "\n",
    "# importing libraries for geo-locations\n",
    "from geopy.geocoders import Nominatim\n",
    "from geopy.distance import geodesic\n",
    "\n",
    "# importing library to see progress of for loop\n",
    "from tqdm import tqdm_notebook "
   ]
  },
  {
   "cell_type": "code",
   "execution_count": 20,
   "metadata": {},
   "outputs": [],
   "source": [
    "######### creating the features to get from twitter ##########\n",
    "features = {\n",
    "    'Tweet': 'text',\n",
    "    'User': 'username',\n",
    "    'User_ID': 'author_id',\n",
    "    'Geo': 'geo',\n",
    "    'HashTag': 'hashtags',\n",
    "    'Date': 'formatted_date',\n",
    "}"
   ]
  },
  {
   "cell_type": "code",
   "execution_count": 3,
   "metadata": {},
   "outputs": [
    {
     "data": {
      "application/vnd.jupyter.widget-view+json": {
       "model_id": "cc891952522c490e8f91d9b38f000fbd",
       "version_major": 2,
       "version_minor": 0
      },
      "text/plain": [
       "HBox(children=(IntProgress(value=0, max=13), HTML(value='')))"
      ]
     },
     "metadata": {},
     "output_type": "display_data"
    },
    {
     "name": "stdout",
     "output_type": "stream",
     "text": [
      "\n"
     ]
    }
   ],
   "source": [
    "########## scraping sonoma county tweets during Kincade Fire ###########\n",
    "sites= ['SoCo_TPW', 'CHPSantaRosa', 'CHP_Napa', 'CaltransDist3', 'CountyofSonoma', 'Cal_fire', \n",
    "        'sonomasheriff', 'sonomascanner', 'sonomafireinfo', 'sonomanews', 'sonoma_news', 'CHPAlerts', \n",
    "        'Caltrans']\n",
    "\n",
    "for site in tqdm_notebook(sites):\n",
    "    tweetCriteria = got.manager.TweetCriteria().setUsername(site)\\\n",
    "                                               .setSince('2019-10-23')\\\n",
    "                                               .setUntil('2019-11-02')\n",
    "    tweet = got.manager.TweetManager.getTweets(tweetCriteria) \n",
    "    data = {}\n",
    "\n",
    "    for title in features.keys():\n",
    "        data[title] = []\n",
    "\n",
    "    # progress bar will not show without certain packages installed\n",
    "    for i in tweet:\n",
    "        for col, attr in features.items():\n",
    "            var = eval('i.' + attr)\n",
    "            data[col].append(var)\n",
    "\n",
    "    df = pd.DataFrame.from_dict(data)\n",
    "                            \n",
    "    filename = f'{site}'\n",
    "    df.to_csv('../datasets/kincade_fire/'+filename + '.csv', index=False)"
   ]
  },
  {
   "cell_type": "code",
   "execution_count": 7,
   "metadata": {},
   "outputs": [],
   "source": [
    "# setting our directory\n",
    "os.chdir(\"../datasets/kincade_fire/\")"
   ]
  },
  {
   "cell_type": "code",
   "execution_count": 8,
   "metadata": {},
   "outputs": [],
   "source": [
    "# setting the extension to csv and creating a ldatasets/kincade_fire/ all csvs\n",
    "extension = 'csv'\n",
    "all_filenames = [i for i in glob.glob('*.{}'.format(extension))]"
   ]
  },
  {
   "cell_type": "code",
   "execution_count": 9,
   "metadata": {},
   "outputs": [],
   "source": [
    "#combine all files in the list\n",
    "combined_csv = pd.concat([pd.read_csv(f) for f in all_filenames ])\n",
    "#export to csv\n",
    "combined_csv.to_csv( \"../kincade_fire_all.csv\", index=False, encoding='utf-8-sig')"
   ]
  },
  {
   "cell_type": "code",
   "execution_count": 11,
   "metadata": {},
   "outputs": [],
   "source": [
    "# resettting our directory\n",
    "os.chdir(\"../../\")"
   ]
  },
  {
   "cell_type": "code",
   "execution_count": 24,
   "metadata": {},
   "outputs": [
    {
     "data": {
      "application/vnd.jupyter.widget-view+json": {
       "model_id": "4ac5a31aaa3a416283bf79d6e1af1027",
       "version_major": 2,
       "version_minor": 0
      },
      "text/plain": [
       "HBox(children=(IntProgress(value=0, max=13), HTML(value='')))"
      ]
     },
     "metadata": {},
     "output_type": "display_data"
    },
    {
     "name": "stdout",
     "output_type": "stream",
     "text": [
      "\n"
     ]
    }
   ],
   "source": [
    "########## scraping sonoma county tweets from the last year ###########\n",
    "sites= ['SoCo_TPW', 'CHPSantaRosa', 'CHP_Napa', 'CaltransDist3', 'CountyofSonoma', 'Cal_fire', \n",
    "        'sonomasheriff', 'sonomascanner', 'sonomafireinfo', 'sonomanews', 'sonoma_news', 'CHPAlerts', \n",
    "        'Caltrans']\n",
    "\n",
    "for site in tqdm_notebook(sites):\n",
    "    tweetCriteria = got.manager.TweetCriteria().setUsername(site)\\\n",
    "                                               .setSince('2018-10-02')\\\n",
    "                                               .setUntil('2019-10-02')\n",
    "    tweet = got.manager.TweetManager.getTweets(tweetCriteria) \n",
    "    data = {}\n",
    "\n",
    "    for title in features.keys():\n",
    "        data[title] = []\n",
    "\n",
    "    # progress bar will not show without certain packages installed\n",
    "    for i in tweet:\n",
    "        for col, attr in features.items():\n",
    "            var = eval('i.' + attr)\n",
    "            data[col].append(var)\n",
    "\n",
    "    df = pd.DataFrame.from_dict(data)\n",
    "                            \n",
    "    filename = f'yrloop_{site}'\n",
    "    df.to_csv('datasets/yrold/' + filename + '.csv', index=False)"
   ]
  },
  {
   "cell_type": "code",
   "execution_count": 25,
   "metadata": {},
   "outputs": [],
   "source": [
    "# setting our directory\n",
    "os.chdir(\"datasets/yrold/\")"
   ]
  },
  {
   "cell_type": "code",
   "execution_count": 26,
   "metadata": {},
   "outputs": [],
   "source": [
    "# setting the extension to csv and creating a ldatasets/kincade_fire/ all csvs\n",
    "extension = 'csv'\n",
    "all_filenames = [i for i in glob.glob('*.{}'.format(extension))]"
   ]
  },
  {
   "cell_type": "code",
   "execution_count": 27,
   "metadata": {},
   "outputs": [],
   "source": [
    "#combine all files in the list\n",
    "combined_csv = pd.concat([pd.read_csv(f) for f in all_filenames ])"
   ]
  },
  {
   "cell_type": "code",
   "execution_count": 28,
   "metadata": {},
   "outputs": [],
   "source": [
    "# resetting my directory again\n",
    "os.chdir(\"../\")"
   ]
  },
  {
   "cell_type": "code",
   "execution_count": 29,
   "metadata": {},
   "outputs": [],
   "source": [
    "#export to csv\n",
    "combined_csv.to_csv( \"yrloop_all.csv\", index=False, encoding='utf-8-sig')"
   ]
  }
 ],
 "metadata": {
  "kernelspec": {
   "display_name": "Python 3",
   "language": "python",
   "name": "python3"
  },
  "language_info": {
   "codemirror_mode": {
    "name": "ipython",
    "version": 3
   },
   "file_extension": ".py",
   "mimetype": "text/x-python",
   "name": "python",
   "nbconvert_exporter": "python",
   "pygments_lexer": "ipython3",
   "version": "3.7.4"
  }
 },
 "nbformat": 4,
 "nbformat_minor": 4
}

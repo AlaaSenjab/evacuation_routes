{
 "cells": [
  {
   "cell_type": "markdown",
   "metadata": {},
   "source": [
    "# Cleaning Tweets and Determining Road Closures"
   ]
  },
  {
   "cell_type": "code",
   "execution_count": 20,
   "metadata": {},
   "outputs": [],
   "source": [
    "#data stuff\n",
    "import pandas as pd\n",
    "import numpy as np\n",
    "import re\n",
    "\n",
    "#other\n",
    "from tqdm import tqdm_notebook"
   ]
  },
  {
   "cell_type": "markdown",
   "metadata": {},
   "source": [
    "## Cleaning tweets for the last week tweets"
   ]
  },
  {
   "cell_type": "code",
   "execution_count": 21,
   "metadata": {},
   "outputs": [],
   "source": [
    "# loading in data\n",
    "last_year = pd.read_csv('../datasets/yrloop_all.csv')\n",
    "last_year.drop(columns=['User', 'User_ID', 'Geo', 'HashTag'], inplace=True)"
   ]
  },
  {
   "cell_type": "code",
   "execution_count": 22,
   "metadata": {},
   "outputs": [],
   "source": [
    "# clean tweet function\n",
    "def clean_tweets (df):\n",
    "    df['Tweet'] = df['Tweet'].str.replace(r'pic.twitter.com.*[\\r\\n]*', '', regex=True)\n",
    "    df['Tweet'] = df['Tweet'].map(lambda x: re.sub('http[s]?:\\/\\/[^\\s]*',' ', x))\n",
    "    df['Tweet'] = df['Tweet'].str.lower()\n",
    "    df['Tweet'] = df['Tweet'].str.replace('.', '')\n",
    "    df['Tweet'] = df['Tweet'].str.replace('/', '')\n",
    "    df['Tweet'] = df['Tweet'].str.replace(',', '')\n",
    "    df['Tweet'] = df['Tweet'].str.replace(\"'\", '')\n",
    "    df['Tweet'] = df['Tweet'].str.replace(\";\", '')\n",
    "    df['Tweet'] = df['Tweet'].str.replace(\"(\", '')\n",
    "    df['Tweet'] = df['Tweet'].str.replace(\")\", '')\n",
    "    return df\n"
   ]
  },
  {
   "cell_type": "code",
   "execution_count": 23,
   "metadata": {},
   "outputs": [
    {
     "data": {
      "text/html": [
       "<div>\n",
       "<style scoped>\n",
       "    .dataframe tbody tr th:only-of-type {\n",
       "        vertical-align: middle;\n",
       "    }\n",
       "\n",
       "    .dataframe tbody tr th {\n",
       "        vertical-align: top;\n",
       "    }\n",
       "\n",
       "    .dataframe thead th {\n",
       "        text-align: right;\n",
       "    }\n",
       "</style>\n",
       "<table border=\"1\" class=\"dataframe\">\n",
       "  <thead>\n",
       "    <tr style=\"text-align: right;\">\n",
       "      <th></th>\n",
       "      <th>Tweet</th>\n",
       "      <th>Date</th>\n",
       "    </tr>\n",
       "  </thead>\n",
       "  <tbody>\n",
       "    <tr>\n",
       "      <td>0</td>\n",
       "      <td>all clear  …</td>\n",
       "      <td>Tue Oct 01 21:05:54 +0000 2019</td>\n",
       "    </tr>\n",
       "    <tr>\n",
       "      <td>1</td>\n",
       "      <td>join calmentor north region for a networking s...</td>\n",
       "      <td>Tue Oct 01 20:06:52 +0000 2019</td>\n",
       "    </tr>\n",
       "    <tr>\n",
       "      <td>2</td>\n",
       "      <td>expect delays on northbound i-5 near j street ...</td>\n",
       "      <td>Tue Oct 01 18:36:08 +0000 2019</td>\n",
       "    </tr>\n",
       "    <tr>\n",
       "      <td>3</td>\n",
       "      <td>on #cleanairdayca give public transportation a...</td>\n",
       "      <td>Tue Oct 01 17:59:04 +0000 2019</td>\n",
       "    </tr>\n",
       "    <tr>\n",
       "      <td>4</td>\n",
       "      <td>#trafficalert: permit loads will be restricted...</td>\n",
       "      <td>Mon Sep 30 23:29:23 +0000 2019</td>\n",
       "    </tr>\n",
       "    <tr>\n",
       "      <td>...</td>\n",
       "      <td>...</td>\n",
       "      <td>...</td>\n",
       "    </tr>\n",
       "    <tr>\n",
       "      <td>15083</td>\n",
       "      <td>last year nine california first responders tra...</td>\n",
       "      <td>Sat Oct 06 16:00:00 +0000 2018</td>\n",
       "    </tr>\n",
       "    <tr>\n",
       "      <td>15084</td>\n",
       "      <td>don’t fall for it! despite recent rains fire d...</td>\n",
       "      <td>Fri Oct 05 18:34:37 +0000 2018</td>\n",
       "    </tr>\n",
       "    <tr>\n",
       "      <td>15085</td>\n",
       "      <td>#halloween2018 is less than a month away! but ...</td>\n",
       "      <td>Wed Oct 03 20:23:51 +0000 2018</td>\n",
       "    </tr>\n",
       "    <tr>\n",
       "      <td>15086</td>\n",
       "      <td>cal fire is assisting @sierra_nf with a fire o...</td>\n",
       "      <td>Wed Oct 03 01:25:38 +0000 2018</td>\n",
       "    </tr>\n",
       "    <tr>\n",
       "      <td>15087</td>\n",
       "      <td>cal fire is assisting @fthunterliggett with a ...</td>\n",
       "      <td>Tue Oct 02 23:59:54 +0000 2018</td>\n",
       "    </tr>\n",
       "  </tbody>\n",
       "</table>\n",
       "<p>15088 rows × 2 columns</p>\n",
       "</div>"
      ],
      "text/plain": [
       "                                                   Tweet  \\\n",
       "0                                           all clear  …   \n",
       "1      join calmentor north region for a networking s...   \n",
       "2      expect delays on northbound i-5 near j street ...   \n",
       "3      on #cleanairdayca give public transportation a...   \n",
       "4      #trafficalert: permit loads will be restricted...   \n",
       "...                                                  ...   \n",
       "15083  last year nine california first responders tra...   \n",
       "15084  don’t fall for it! despite recent rains fire d...   \n",
       "15085  #halloween2018 is less than a month away! but ...   \n",
       "15086  cal fire is assisting @sierra_nf with a fire o...   \n",
       "15087  cal fire is assisting @fthunterliggett with a ...   \n",
       "\n",
       "                                 Date  \n",
       "0      Tue Oct 01 21:05:54 +0000 2019  \n",
       "1      Tue Oct 01 20:06:52 +0000 2019  \n",
       "2      Tue Oct 01 18:36:08 +0000 2019  \n",
       "3      Tue Oct 01 17:59:04 +0000 2019  \n",
       "4      Mon Sep 30 23:29:23 +0000 2019  \n",
       "...                               ...  \n",
       "15083  Sat Oct 06 16:00:00 +0000 2018  \n",
       "15084  Fri Oct 05 18:34:37 +0000 2018  \n",
       "15085  Wed Oct 03 20:23:51 +0000 2018  \n",
       "15086  Wed Oct 03 01:25:38 +0000 2018  \n",
       "15087  Tue Oct 02 23:59:54 +0000 2018  \n",
       "\n",
       "[15088 rows x 2 columns]"
      ]
     },
     "execution_count": 23,
     "metadata": {},
     "output_type": "execute_result"
    }
   ],
   "source": [
    "# cleaning the tweets\n",
    "clean_tweets(last_year)"
   ]
  },
  {
   "cell_type": "code",
   "execution_count": 32,
   "metadata": {},
   "outputs": [],
   "source": [
    "# passing a list of roads and road-closure/open keywords to identify if a tweet is signifying a road closure\n",
    "road_keywords = ['road', 'st','rd', 'hwy', 'highway', 'ave', 'avenue',\n",
    "                 'intersection', 'bridge', 'sr-', 'cr-', 'us-', 'i-', 'blvd']\n",
    "\n",
    "closed_keywords = ['closed', 'remains closed', 'shut down', 'backed up',\n",
    "                   'no travel', 'delay', 'blocked', 'delays',\n",
    "                   'disabled', 'traffic', 'fire', 'flood', 'closures', 'closure']\n",
    "\n",
    "to_drop = [\"open\", \"opened\", \"lifted\", \"reopened\", \"clear\", \"cleared\"]"
   ]
  },
  {
   "cell_type": "code",
   "execution_count": 33,
   "metadata": {},
   "outputs": [],
   "source": [
    "def tweet_filter (df, col, keywords, roads, dropwords):\n",
    "    df['road_closure'] = df[col].str.lower().map(lambda x: 1 if ((any(word in x for word in roads)) \n",
    "                                                     & (any(word in x for word in keywords)) \n",
    "                                                     & (not any(word in x for word in dropwords))) \n",
    "                                                     else 0)   \n",
    "    return df['road_closure']"
   ]
  },
  {
   "cell_type": "code",
   "execution_count": 35,
   "metadata": {},
   "outputs": [],
   "source": [
    "# run function on full dataframe\n",
    "last_year['road_closure'] = tweet_filter(last_year, 'Tweet', closed_keywords, road_keywords, to_drop)"
   ]
  },
  {
   "cell_type": "code",
   "execution_count": 38,
   "metadata": {},
   "outputs": [
    {
     "data": {
      "text/html": [
       "<div>\n",
       "<style scoped>\n",
       "    .dataframe tbody tr th:only-of-type {\n",
       "        vertical-align: middle;\n",
       "    }\n",
       "\n",
       "    .dataframe tbody tr th {\n",
       "        vertical-align: top;\n",
       "    }\n",
       "\n",
       "    .dataframe thead th {\n",
       "        text-align: right;\n",
       "    }\n",
       "</style>\n",
       "<table border=\"1\" class=\"dataframe\">\n",
       "  <thead>\n",
       "    <tr style=\"text-align: right;\">\n",
       "      <th></th>\n",
       "      <th>Tweet</th>\n",
       "      <th>Date</th>\n",
       "      <th>road_closure</th>\n",
       "    </tr>\n",
       "  </thead>\n",
       "  <tbody>\n",
       "    <tr>\n",
       "      <td>0</td>\n",
       "      <td>all clear  …</td>\n",
       "      <td>Tue Oct 01 21:05:54 +0000 2019</td>\n",
       "      <td>0</td>\n",
       "    </tr>\n",
       "    <tr>\n",
       "      <td>1</td>\n",
       "      <td>join calmentor north region for a networking s...</td>\n",
       "      <td>Tue Oct 01 20:06:52 +0000 2019</td>\n",
       "      <td>0</td>\n",
       "    </tr>\n",
       "    <tr>\n",
       "      <td>2</td>\n",
       "      <td>expect delays on northbound i-5 near j street ...</td>\n",
       "      <td>Tue Oct 01 18:36:08 +0000 2019</td>\n",
       "      <td>1</td>\n",
       "    </tr>\n",
       "    <tr>\n",
       "      <td>3</td>\n",
       "      <td>on #cleanairdayca give public transportation a...</td>\n",
       "      <td>Tue Oct 01 17:59:04 +0000 2019</td>\n",
       "      <td>0</td>\n",
       "    </tr>\n",
       "    <tr>\n",
       "      <td>4</td>\n",
       "      <td>#trafficalert: permit loads will be restricted...</td>\n",
       "      <td>Mon Sep 30 23:29:23 +0000 2019</td>\n",
       "      <td>1</td>\n",
       "    </tr>\n",
       "  </tbody>\n",
       "</table>\n",
       "</div>"
      ],
      "text/plain": [
       "                                               Tweet  \\\n",
       "0                                       all clear  …   \n",
       "1  join calmentor north region for a networking s...   \n",
       "2  expect delays on northbound i-5 near j street ...   \n",
       "3  on #cleanairdayca give public transportation a...   \n",
       "4  #trafficalert: permit loads will be restricted...   \n",
       "\n",
       "                             Date  road_closure  \n",
       "0  Tue Oct 01 21:05:54 +0000 2019             0  \n",
       "1  Tue Oct 01 20:06:52 +0000 2019             0  \n",
       "2  Tue Oct 01 18:36:08 +0000 2019             1  \n",
       "3  Tue Oct 01 17:59:04 +0000 2019             0  \n",
       "4  Mon Sep 30 23:29:23 +0000 2019             1  "
      ]
     },
     "execution_count": 38,
     "metadata": {},
     "output_type": "execute_result"
    }
   ],
   "source": [
    "# making sure this worked\n",
    "last_year.head()"
   ]
  },
  {
   "cell_type": "code",
   "execution_count": 42,
   "metadata": {},
   "outputs": [],
   "source": [
    "last_year.to_csv('../datasets/last_year_closed.csv', index=False)"
   ]
  }
 ],
 "metadata": {
  "kernelspec": {
   "display_name": "Python 3",
   "language": "python",
   "name": "python3"
  },
  "language_info": {
   "codemirror_mode": {
    "name": "ipython",
    "version": 3
   },
   "file_extension": ".py",
   "mimetype": "text/x-python",
   "name": "python",
   "nbconvert_exporter": "python",
   "pygments_lexer": "ipython3",
   "version": "3.7.4"
  }
 },
 "nbformat": 4,
 "nbformat_minor": 4
}
